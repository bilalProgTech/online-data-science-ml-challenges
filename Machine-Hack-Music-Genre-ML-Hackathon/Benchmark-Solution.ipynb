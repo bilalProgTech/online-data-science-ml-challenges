{
  "nbformat": 4,
  "nbformat_minor": 0,
  "metadata": {
    "colab": {
      "name": "MachineHack-Music-Genre-ML-Hackathon.ipynb",
      "provenance": [],
      "authorship_tag": "ABX9TyMef18lWA8LMoJD9fZVAMBt",
      "include_colab_link": true
    },
    "kernelspec": {
      "name": "python3",
      "display_name": "Python 3"
    },
    "language_info": {
      "name": "python"
    }
  },
  "cells": [
    {
      "cell_type": "markdown",
      "metadata": {
        "id": "view-in-github",
        "colab_type": "text"
      },
      "source": [
        "<a href=\"https://colab.research.google.com/github/bilalProgTech/online-data-science-ml-challenges/blob/master/Machine-Hack-Music-Genre-ML-Hackathon/Benchmark-Solution.ipynb\" target=\"_parent\"><img src=\"https://colab.research.google.com/assets/colab-badge.svg\" alt=\"Open In Colab\"/></a>"
      ]
    },
    {
      "cell_type": "markdown",
      "metadata": {
        "id": "QySxDpmXgX80"
      },
      "source": [
        "# MachineHack-Music-Genre-ML-Hackathon\n",
        "\n",
        "[Hackathon](https://machinehack.com/hackathonsmusic_genre_classification_weekend_hackathon_edition_2_the_last_hacker_standing/overview)\n",
        "\n",
        "Accuracy: 1.17052"
      ]
    },
    {
      "cell_type": "code",
      "metadata": {
        "colab": {
          "base_uri": "https://localhost:8080/"
        },
        "id": "kkI_XWuwWkn3",
        "outputId": "2abe495a-d70e-4440-c9b3-49f88a797539"
      },
      "source": [
        "!wget https://machinehack-be.s3.amazonaws.com/music_genre_classification_weekend_hackathon_edition_2_the_last_hacker_standing/Dataset_MGP_LHS.zip\n",
        "!unzip *.zip"
      ],
      "execution_count": null,
      "outputs": [
        {
          "output_type": "stream",
          "text": [
            "--2021-08-12 12:34:13--  https://machinehack-be.s3.amazonaws.com/music_genre_classification_weekend_hackathon_edition_2_the_last_hacker_standing/Dataset_MGP_LHS.zip\n",
            "Resolving machinehack-be.s3.amazonaws.com (machinehack-be.s3.amazonaws.com)... 52.219.62.68\n",
            "Connecting to machinehack-be.s3.amazonaws.com (machinehack-be.s3.amazonaws.com)|52.219.62.68|:443... connected.\n",
            "HTTP request sent, awaiting response... 200 OK\n",
            "Length: 1328647 (1.3M) [application/octet-stream]\n",
            "Saving to: ‘Dataset_MGP_LHS.zip.1’\n",
            "\n",
            "Dataset_MGP_LHS.zip 100%[===================>]   1.27M   867KB/s    in 1.5s    \n",
            "\n",
            "2021-08-12 12:34:16 (867 KB/s) - ‘Dataset_MGP_LHS.zip.1’ saved [1328647/1328647]\n",
            "\n",
            "Archive:  Dataset_MGP_LHS.zip\n",
            "  inflating: submission.csv          \n",
            "  inflating: __MACOSX/._submission.csv  \n",
            "  inflating: test.csv                \n",
            "  inflating: __MACOSX/._test.csv     \n",
            "  inflating: train.csv               \n",
            "  inflating: __MACOSX/._train.csv    \n"
          ],
          "name": "stdout"
        }
      ]
    },
    {
      "cell_type": "code",
      "metadata": {
        "id": "KIfB_1P5Wr60"
      },
      "source": [
        "import pandas as pd\n",
        "import numpy as np"
      ],
      "execution_count": null,
      "outputs": []
    },
    {
      "cell_type": "code",
      "metadata": {
        "colab": {
          "base_uri": "https://localhost:8080/",
          "height": 323
        },
        "id": "e5hYibYFWvxb",
        "outputId": "c18091fb-1170-4ccf-d638-9102cb44cad8"
      },
      "source": [
        "train = pd.read_csv('train.csv')\n",
        "train.head()"
      ],
      "execution_count": null,
      "outputs": [
        {
          "output_type": "execute_result",
          "data": {
            "text/html": [
              "<div>\n",
              "<style scoped>\n",
              "    .dataframe tbody tr th:only-of-type {\n",
              "        vertical-align: middle;\n",
              "    }\n",
              "\n",
              "    .dataframe tbody tr th {\n",
              "        vertical-align: top;\n",
              "    }\n",
              "\n",
              "    .dataframe thead th {\n",
              "        text-align: right;\n",
              "    }\n",
              "</style>\n",
              "<table border=\"1\" class=\"dataframe\">\n",
              "  <thead>\n",
              "    <tr style=\"text-align: right;\">\n",
              "      <th></th>\n",
              "      <th>Artist Name</th>\n",
              "      <th>Track Name</th>\n",
              "      <th>Popularity</th>\n",
              "      <th>danceability</th>\n",
              "      <th>energy</th>\n",
              "      <th>key</th>\n",
              "      <th>loudness</th>\n",
              "      <th>mode</th>\n",
              "      <th>speechiness</th>\n",
              "      <th>acousticness</th>\n",
              "      <th>instrumentalness</th>\n",
              "      <th>liveness</th>\n",
              "      <th>valence</th>\n",
              "      <th>tempo</th>\n",
              "      <th>duration_in min/ms</th>\n",
              "      <th>time_signature</th>\n",
              "      <th>Class</th>\n",
              "    </tr>\n",
              "  </thead>\n",
              "  <tbody>\n",
              "    <tr>\n",
              "      <th>0</th>\n",
              "      <td>Bruno Mars</td>\n",
              "      <td>That's What I Like (feat. Gucci Mane)</td>\n",
              "      <td>60.0</td>\n",
              "      <td>0.854</td>\n",
              "      <td>0.564</td>\n",
              "      <td>1.0</td>\n",
              "      <td>-4.964</td>\n",
              "      <td>1</td>\n",
              "      <td>0.0485</td>\n",
              "      <td>0.017100</td>\n",
              "      <td>NaN</td>\n",
              "      <td>0.0849</td>\n",
              "      <td>0.8990</td>\n",
              "      <td>134.071</td>\n",
              "      <td>234596.0</td>\n",
              "      <td>4</td>\n",
              "      <td>5</td>\n",
              "    </tr>\n",
              "    <tr>\n",
              "      <th>1</th>\n",
              "      <td>Boston</td>\n",
              "      <td>Hitch a Ride</td>\n",
              "      <td>54.0</td>\n",
              "      <td>0.382</td>\n",
              "      <td>0.814</td>\n",
              "      <td>3.0</td>\n",
              "      <td>-7.230</td>\n",
              "      <td>1</td>\n",
              "      <td>0.0406</td>\n",
              "      <td>0.001100</td>\n",
              "      <td>0.004010</td>\n",
              "      <td>0.1010</td>\n",
              "      <td>0.5690</td>\n",
              "      <td>116.454</td>\n",
              "      <td>251733.0</td>\n",
              "      <td>4</td>\n",
              "      <td>10</td>\n",
              "    </tr>\n",
              "    <tr>\n",
              "      <th>2</th>\n",
              "      <td>The Raincoats</td>\n",
              "      <td>No Side to Fall In</td>\n",
              "      <td>35.0</td>\n",
              "      <td>0.434</td>\n",
              "      <td>0.614</td>\n",
              "      <td>6.0</td>\n",
              "      <td>-8.334</td>\n",
              "      <td>1</td>\n",
              "      <td>0.0525</td>\n",
              "      <td>0.486000</td>\n",
              "      <td>0.000196</td>\n",
              "      <td>0.3940</td>\n",
              "      <td>0.7870</td>\n",
              "      <td>147.681</td>\n",
              "      <td>109667.0</td>\n",
              "      <td>4</td>\n",
              "      <td>6</td>\n",
              "    </tr>\n",
              "    <tr>\n",
              "      <th>3</th>\n",
              "      <td>Deno</td>\n",
              "      <td>Lingo (feat. J.I &amp; Chunkz)</td>\n",
              "      <td>66.0</td>\n",
              "      <td>0.853</td>\n",
              "      <td>0.597</td>\n",
              "      <td>10.0</td>\n",
              "      <td>-6.528</td>\n",
              "      <td>0</td>\n",
              "      <td>0.0555</td>\n",
              "      <td>0.021200</td>\n",
              "      <td>NaN</td>\n",
              "      <td>0.1220</td>\n",
              "      <td>0.5690</td>\n",
              "      <td>107.033</td>\n",
              "      <td>173968.0</td>\n",
              "      <td>4</td>\n",
              "      <td>5</td>\n",
              "    </tr>\n",
              "    <tr>\n",
              "      <th>4</th>\n",
              "      <td>Red Hot Chili Peppers</td>\n",
              "      <td>Nobody Weird Like Me - Remastered</td>\n",
              "      <td>53.0</td>\n",
              "      <td>0.167</td>\n",
              "      <td>0.975</td>\n",
              "      <td>2.0</td>\n",
              "      <td>-4.279</td>\n",
              "      <td>1</td>\n",
              "      <td>0.2160</td>\n",
              "      <td>0.000169</td>\n",
              "      <td>0.016100</td>\n",
              "      <td>0.1720</td>\n",
              "      <td>0.0918</td>\n",
              "      <td>199.060</td>\n",
              "      <td>229960.0</td>\n",
              "      <td>4</td>\n",
              "      <td>10</td>\n",
              "    </tr>\n",
              "  </tbody>\n",
              "</table>\n",
              "</div>"
            ],
            "text/plain": [
              "             Artist Name  ... Class\n",
              "0             Bruno Mars  ...     5\n",
              "1                 Boston  ...    10\n",
              "2          The Raincoats  ...     6\n",
              "3                   Deno  ...     5\n",
              "4  Red Hot Chili Peppers  ...    10\n",
              "\n",
              "[5 rows x 17 columns]"
            ]
          },
          "metadata": {
            "tags": []
          },
          "execution_count": 4
        }
      ]
    },
    {
      "cell_type": "code",
      "metadata": {
        "colab": {
          "base_uri": "https://localhost:8080/"
        },
        "id": "LvmWkCy5W3Fb",
        "outputId": "9fb5be34-4422-49e0-aabe-a1a30c631b88"
      },
      "source": [
        "train.isnull().sum()"
      ],
      "execution_count": null,
      "outputs": [
        {
          "output_type": "execute_result",
          "data": {
            "text/plain": [
              "Artist Name              0\n",
              "Track Name               0\n",
              "Popularity             428\n",
              "danceability             0\n",
              "energy                   0\n",
              "key                   2014\n",
              "loudness                 0\n",
              "mode                     0\n",
              "speechiness              0\n",
              "acousticness             0\n",
              "instrumentalness      4377\n",
              "liveness                 0\n",
              "valence                  0\n",
              "tempo                    0\n",
              "duration_in min/ms       0\n",
              "time_signature           0\n",
              "Class                    0\n",
              "dtype: int64"
            ]
          },
          "metadata": {
            "tags": []
          },
          "execution_count": 5
        }
      ]
    },
    {
      "cell_type": "code",
      "metadata": {
        "colab": {
          "base_uri": "https://localhost:8080/",
          "height": 289
        },
        "id": "2hs87I_gW-4D",
        "outputId": "2ca04d2a-8d0b-46bc-db7d-61af1ab12ba8"
      },
      "source": [
        "test = pd.read_csv('test.csv')\n",
        "test.head()"
      ],
      "execution_count": null,
      "outputs": [
        {
          "output_type": "execute_result",
          "data": {
            "text/html": [
              "<div>\n",
              "<style scoped>\n",
              "    .dataframe tbody tr th:only-of-type {\n",
              "        vertical-align: middle;\n",
              "    }\n",
              "\n",
              "    .dataframe tbody tr th {\n",
              "        vertical-align: top;\n",
              "    }\n",
              "\n",
              "    .dataframe thead th {\n",
              "        text-align: right;\n",
              "    }\n",
              "</style>\n",
              "<table border=\"1\" class=\"dataframe\">\n",
              "  <thead>\n",
              "    <tr style=\"text-align: right;\">\n",
              "      <th></th>\n",
              "      <th>Artist Name</th>\n",
              "      <th>Track Name</th>\n",
              "      <th>Popularity</th>\n",
              "      <th>danceability</th>\n",
              "      <th>energy</th>\n",
              "      <th>key</th>\n",
              "      <th>loudness</th>\n",
              "      <th>mode</th>\n",
              "      <th>speechiness</th>\n",
              "      <th>acousticness</th>\n",
              "      <th>instrumentalness</th>\n",
              "      <th>liveness</th>\n",
              "      <th>valence</th>\n",
              "      <th>tempo</th>\n",
              "      <th>duration_in min/ms</th>\n",
              "      <th>time_signature</th>\n",
              "    </tr>\n",
              "  </thead>\n",
              "  <tbody>\n",
              "    <tr>\n",
              "      <th>0</th>\n",
              "      <td>David Bowie</td>\n",
              "      <td>Space Oddity - 2015 Remaster</td>\n",
              "      <td>73.0</td>\n",
              "      <td>0.310</td>\n",
              "      <td>0.403</td>\n",
              "      <td>NaN</td>\n",
              "      <td>-13.664</td>\n",
              "      <td>1</td>\n",
              "      <td>0.0326</td>\n",
              "      <td>0.07260</td>\n",
              "      <td>0.000093</td>\n",
              "      <td>0.1390</td>\n",
              "      <td>0.466</td>\n",
              "      <td>134.480</td>\n",
              "      <td>318027.000000</td>\n",
              "      <td>4</td>\n",
              "    </tr>\n",
              "    <tr>\n",
              "      <th>1</th>\n",
              "      <td>Crimson Sun</td>\n",
              "      <td>Essence of Creation</td>\n",
              "      <td>34.0</td>\n",
              "      <td>0.511</td>\n",
              "      <td>0.955</td>\n",
              "      <td>1.0</td>\n",
              "      <td>-5.059</td>\n",
              "      <td>1</td>\n",
              "      <td>0.1290</td>\n",
              "      <td>0.00040</td>\n",
              "      <td>0.000009</td>\n",
              "      <td>0.2630</td>\n",
              "      <td>0.291</td>\n",
              "      <td>151.937</td>\n",
              "      <td>220413.000000</td>\n",
              "      <td>4</td>\n",
              "    </tr>\n",
              "    <tr>\n",
              "      <th>2</th>\n",
              "      <td>P!nk</td>\n",
              "      <td>Raise Your Glass</td>\n",
              "      <td>78.0</td>\n",
              "      <td>0.700</td>\n",
              "      <td>0.709</td>\n",
              "      <td>7.0</td>\n",
              "      <td>-5.006</td>\n",
              "      <td>1</td>\n",
              "      <td>0.0839</td>\n",
              "      <td>0.00480</td>\n",
              "      <td>NaN</td>\n",
              "      <td>0.0289</td>\n",
              "      <td>0.625</td>\n",
              "      <td>122.019</td>\n",
              "      <td>202960.000000</td>\n",
              "      <td>4</td>\n",
              "    </tr>\n",
              "    <tr>\n",
              "      <th>3</th>\n",
              "      <td>Shawn Mendes</td>\n",
              "      <td>Wonder</td>\n",
              "      <td>80.0</td>\n",
              "      <td>0.333</td>\n",
              "      <td>0.637</td>\n",
              "      <td>1.0</td>\n",
              "      <td>-4.904</td>\n",
              "      <td>0</td>\n",
              "      <td>0.0581</td>\n",
              "      <td>0.13100</td>\n",
              "      <td>0.000018</td>\n",
              "      <td>0.1490</td>\n",
              "      <td>0.132</td>\n",
              "      <td>139.898</td>\n",
              "      <td>172693.000000</td>\n",
              "      <td>4</td>\n",
              "    </tr>\n",
              "    <tr>\n",
              "      <th>4</th>\n",
              "      <td>Backstreet Boys</td>\n",
              "      <td>Helpless When She Smiles - Radio Version</td>\n",
              "      <td>48.0</td>\n",
              "      <td>0.393</td>\n",
              "      <td>0.849</td>\n",
              "      <td>11.0</td>\n",
              "      <td>-4.114</td>\n",
              "      <td>1</td>\n",
              "      <td>0.0459</td>\n",
              "      <td>0.00421</td>\n",
              "      <td>NaN</td>\n",
              "      <td>0.1620</td>\n",
              "      <td>0.222</td>\n",
              "      <td>74.028</td>\n",
              "      <td>4.093117</td>\n",
              "      <td>4</td>\n",
              "    </tr>\n",
              "  </tbody>\n",
              "</table>\n",
              "</div>"
            ],
            "text/plain": [
              "       Artist Name  ... time_signature\n",
              "0      David Bowie  ...              4\n",
              "1      Crimson Sun  ...              4\n",
              "2             P!nk  ...              4\n",
              "3     Shawn Mendes  ...              4\n",
              "4  Backstreet Boys  ...              4\n",
              "\n",
              "[5 rows x 16 columns]"
            ]
          },
          "metadata": {
            "tags": []
          },
          "execution_count": 6
        }
      ]
    },
    {
      "cell_type": "code",
      "metadata": {
        "colab": {
          "base_uri": "https://localhost:8080/"
        },
        "id": "7YUjI3-tXnGT",
        "outputId": "c0a860d3-9627-40fb-bd6a-e088e0a795ea"
      },
      "source": [
        "combine = train.append(test).reset_index(drop=True)\n",
        "combine.shape"
      ],
      "execution_count": null,
      "outputs": [
        {
          "output_type": "execute_result",
          "data": {
            "text/plain": [
              "(25709, 17)"
            ]
          },
          "metadata": {
            "tags": []
          },
          "execution_count": 43
        }
      ]
    },
    {
      "cell_type": "code",
      "metadata": {
        "colab": {
          "base_uri": "https://localhost:8080/"
        },
        "id": "pYmjsydAXrLT",
        "outputId": "d5c55694-330a-48f0-fda4-dac67d7f9d93"
      },
      "source": [
        "len(combine['Artist Name'].value_counts())"
      ],
      "execution_count": null,
      "outputs": [
        {
          "output_type": "execute_result",
          "data": {
            "text/plain": [
              "11304"
            ]
          },
          "metadata": {
            "tags": []
          },
          "execution_count": 44
        }
      ]
    },
    {
      "cell_type": "code",
      "metadata": {
        "colab": {
          "base_uri": "https://localhost:8080/"
        },
        "id": "ITXm2T5gXy_7",
        "outputId": "d7043059-b593-46de-f8c0-00b5372a7ae5"
      },
      "source": [
        "len(combine['Track Name'].value_counts())"
      ],
      "execution_count": null,
      "outputs": [
        {
          "output_type": "execute_result",
          "data": {
            "text/plain": [
              "20303"
            ]
          },
          "metadata": {
            "tags": []
          },
          "execution_count": 45
        }
      ]
    },
    {
      "cell_type": "code",
      "metadata": {
        "colab": {
          "base_uri": "https://localhost:8080/"
        },
        "id": "qUGOujq5X3Kc",
        "outputId": "aa929be5-c9af-4516-e16b-8392b7013305"
      },
      "source": [
        "combine.isnull().sum()"
      ],
      "execution_count": null,
      "outputs": [
        {
          "output_type": "execute_result",
          "data": {
            "text/plain": [
              "Artist Name              0\n",
              "Track Name               0\n",
              "Popularity             655\n",
              "danceability             0\n",
              "energy                   0\n",
              "key                   2822\n",
              "loudness                 0\n",
              "mode                     0\n",
              "speechiness              0\n",
              "acousticness             0\n",
              "instrumentalness      6286\n",
              "liveness                 0\n",
              "valence                  0\n",
              "tempo                    0\n",
              "duration_in min/ms       0\n",
              "time_signature           0\n",
              "Class                 7713\n",
              "dtype: int64"
            ]
          },
          "metadata": {
            "tags": []
          },
          "execution_count": 46
        }
      ]
    },
    {
      "cell_type": "code",
      "metadata": {
        "colab": {
          "base_uri": "https://localhost:8080/"
        },
        "id": "rylWQZMKb-u1",
        "outputId": "ddc7be82-0fc7-4c0e-ad34-0857c66605ff"
      },
      "source": [
        "combine['Popularity'] = combine['Popularity'].fillna(combine['Popularity'].mean())\n",
        "combine['key'] = combine['key'].fillna(combine['key'].mean())\n",
        "combine['instrumentalness'] = combine['instrumentalness'].fillna(combine['instrumentalness'].mean())\n",
        "combine.isnull().sum()"
      ],
      "execution_count": null,
      "outputs": [
        {
          "output_type": "execute_result",
          "data": {
            "text/plain": [
              "Artist Name              0\n",
              "Track Name               0\n",
              "Popularity               0\n",
              "danceability             0\n",
              "energy                   0\n",
              "key                      0\n",
              "loudness                 0\n",
              "mode                     0\n",
              "speechiness              0\n",
              "acousticness             0\n",
              "instrumentalness         0\n",
              "liveness                 0\n",
              "valence                  0\n",
              "tempo                    0\n",
              "duration_in min/ms       0\n",
              "time_signature           0\n",
              "Class                 7713\n",
              "dtype: int64"
            ]
          },
          "metadata": {
            "tags": []
          },
          "execution_count": 47
        }
      ]
    },
    {
      "cell_type": "code",
      "metadata": {
        "colab": {
          "base_uri": "https://localhost:8080/"
        },
        "id": "lFRSJKeOZFSb",
        "outputId": "31a4e754-0a7e-4fd4-f747-e5ff10426d0b"
      },
      "source": [
        "X = combine[combine['Class'].isnull()!=True].drop(['Artist Name','Class', 'Track Name'], axis=1)\n",
        "y = combine[combine['Class'].isnull()!=True]['Class']\n",
        "\n",
        "X_test = combine[combine['Class'].isnull()==True].drop(['Artist Name','Class','Track Name'], axis=1)\n",
        "\n",
        "X.shape, y.shape, X_test.shape"
      ],
      "execution_count": null,
      "outputs": [
        {
          "output_type": "execute_result",
          "data": {
            "text/plain": [
              "((17996, 14), (17996,), (7713, 14))"
            ]
          },
          "metadata": {
            "tags": []
          },
          "execution_count": 48
        }
      ]
    },
    {
      "cell_type": "code",
      "metadata": {
        "colab": {
          "base_uri": "https://localhost:8080/",
          "height": 204
        },
        "id": "NUcmZkK1cbrV",
        "outputId": "925c85b9-0de8-45ce-8f9d-4c27f5d8f35d"
      },
      "source": [
        "X.head()"
      ],
      "execution_count": null,
      "outputs": [
        {
          "output_type": "execute_result",
          "data": {
            "text/html": [
              "<div>\n",
              "<style scoped>\n",
              "    .dataframe tbody tr th:only-of-type {\n",
              "        vertical-align: middle;\n",
              "    }\n",
              "\n",
              "    .dataframe tbody tr th {\n",
              "        vertical-align: top;\n",
              "    }\n",
              "\n",
              "    .dataframe thead th {\n",
              "        text-align: right;\n",
              "    }\n",
              "</style>\n",
              "<table border=\"1\" class=\"dataframe\">\n",
              "  <thead>\n",
              "    <tr style=\"text-align: right;\">\n",
              "      <th></th>\n",
              "      <th>Popularity</th>\n",
              "      <th>danceability</th>\n",
              "      <th>energy</th>\n",
              "      <th>key</th>\n",
              "      <th>loudness</th>\n",
              "      <th>mode</th>\n",
              "      <th>speechiness</th>\n",
              "      <th>acousticness</th>\n",
              "      <th>instrumentalness</th>\n",
              "      <th>liveness</th>\n",
              "      <th>valence</th>\n",
              "      <th>tempo</th>\n",
              "      <th>duration_in min/ms</th>\n",
              "      <th>time_signature</th>\n",
              "    </tr>\n",
              "  </thead>\n",
              "  <tbody>\n",
              "    <tr>\n",
              "      <th>0</th>\n",
              "      <td>60.0</td>\n",
              "      <td>0.854</td>\n",
              "      <td>0.564</td>\n",
              "      <td>1.0</td>\n",
              "      <td>-4.964</td>\n",
              "      <td>1</td>\n",
              "      <td>0.0485</td>\n",
              "      <td>0.017100</td>\n",
              "      <td>0.175318</td>\n",
              "      <td>0.0849</td>\n",
              "      <td>0.8990</td>\n",
              "      <td>134.071</td>\n",
              "      <td>234596.0</td>\n",
              "      <td>4</td>\n",
              "    </tr>\n",
              "    <tr>\n",
              "      <th>1</th>\n",
              "      <td>54.0</td>\n",
              "      <td>0.382</td>\n",
              "      <td>0.814</td>\n",
              "      <td>3.0</td>\n",
              "      <td>-7.230</td>\n",
              "      <td>1</td>\n",
              "      <td>0.0406</td>\n",
              "      <td>0.001100</td>\n",
              "      <td>0.004010</td>\n",
              "      <td>0.1010</td>\n",
              "      <td>0.5690</td>\n",
              "      <td>116.454</td>\n",
              "      <td>251733.0</td>\n",
              "      <td>4</td>\n",
              "    </tr>\n",
              "    <tr>\n",
              "      <th>2</th>\n",
              "      <td>35.0</td>\n",
              "      <td>0.434</td>\n",
              "      <td>0.614</td>\n",
              "      <td>6.0</td>\n",
              "      <td>-8.334</td>\n",
              "      <td>1</td>\n",
              "      <td>0.0525</td>\n",
              "      <td>0.486000</td>\n",
              "      <td>0.000196</td>\n",
              "      <td>0.3940</td>\n",
              "      <td>0.7870</td>\n",
              "      <td>147.681</td>\n",
              "      <td>109667.0</td>\n",
              "      <td>4</td>\n",
              "    </tr>\n",
              "    <tr>\n",
              "      <th>3</th>\n",
              "      <td>66.0</td>\n",
              "      <td>0.853</td>\n",
              "      <td>0.597</td>\n",
              "      <td>10.0</td>\n",
              "      <td>-6.528</td>\n",
              "      <td>0</td>\n",
              "      <td>0.0555</td>\n",
              "      <td>0.021200</td>\n",
              "      <td>0.175318</td>\n",
              "      <td>0.1220</td>\n",
              "      <td>0.5690</td>\n",
              "      <td>107.033</td>\n",
              "      <td>173968.0</td>\n",
              "      <td>4</td>\n",
              "    </tr>\n",
              "    <tr>\n",
              "      <th>4</th>\n",
              "      <td>53.0</td>\n",
              "      <td>0.167</td>\n",
              "      <td>0.975</td>\n",
              "      <td>2.0</td>\n",
              "      <td>-4.279</td>\n",
              "      <td>1</td>\n",
              "      <td>0.2160</td>\n",
              "      <td>0.000169</td>\n",
              "      <td>0.016100</td>\n",
              "      <td>0.1720</td>\n",
              "      <td>0.0918</td>\n",
              "      <td>199.060</td>\n",
              "      <td>229960.0</td>\n",
              "      <td>4</td>\n",
              "    </tr>\n",
              "  </tbody>\n",
              "</table>\n",
              "</div>"
            ],
            "text/plain": [
              "   Popularity  danceability  ...  duration_in min/ms  time_signature\n",
              "0        60.0         0.854  ...            234596.0               4\n",
              "1        54.0         0.382  ...            251733.0               4\n",
              "2        35.0         0.434  ...            109667.0               4\n",
              "3        66.0         0.853  ...            173968.0               4\n",
              "4        53.0         0.167  ...            229960.0               4\n",
              "\n",
              "[5 rows x 14 columns]"
            ]
          },
          "metadata": {
            "tags": []
          },
          "execution_count": 49
        }
      ]
    },
    {
      "cell_type": "code",
      "metadata": {
        "id": "mEDXLU89cdNF"
      },
      "source": [
        "from sklearn.preprocessing import StandardScaler\n",
        "from sklearn.decomposition import PCA"
      ],
      "execution_count": null,
      "outputs": []
    },
    {
      "cell_type": "code",
      "metadata": {
        "colab": {
          "base_uri": "https://localhost:8080/",
          "height": 204
        },
        "id": "gwCZL5LJcla9",
        "outputId": "f9d6e4e6-1391-4efd-a8b8-f9470783fb23"
      },
      "source": [
        "scaler = StandardScaler()\n",
        "scaler.fit(X)\n",
        "X_scaled = pd.DataFrame(scaler.transform(X), columns=X.columns)\n",
        "X_test_scaled = pd.DataFrame(scaler.transform(X_test), columns=X.columns)\n",
        "\n",
        "pca = PCA()\n",
        "pca.fit(X_scaled)\n",
        "X_pca = pd.DataFrame(pca.transform(X_scaled), columns=X.columns)\n",
        "X_test_pca = pd.DataFrame(pca.transform(X_test_scaled), columns=X.columns)\n",
        "X_pca.head()"
      ],
      "execution_count": null,
      "outputs": [
        {
          "output_type": "execute_result",
          "data": {
            "text/html": [
              "<div>\n",
              "<style scoped>\n",
              "    .dataframe tbody tr th:only-of-type {\n",
              "        vertical-align: middle;\n",
              "    }\n",
              "\n",
              "    .dataframe tbody tr th {\n",
              "        vertical-align: top;\n",
              "    }\n",
              "\n",
              "    .dataframe thead th {\n",
              "        text-align: right;\n",
              "    }\n",
              "</style>\n",
              "<table border=\"1\" class=\"dataframe\">\n",
              "  <thead>\n",
              "    <tr style=\"text-align: right;\">\n",
              "      <th></th>\n",
              "      <th>Popularity</th>\n",
              "      <th>danceability</th>\n",
              "      <th>energy</th>\n",
              "      <th>key</th>\n",
              "      <th>loudness</th>\n",
              "      <th>mode</th>\n",
              "      <th>speechiness</th>\n",
              "      <th>acousticness</th>\n",
              "      <th>instrumentalness</th>\n",
              "      <th>liveness</th>\n",
              "      <th>valence</th>\n",
              "      <th>tempo</th>\n",
              "      <th>duration_in min/ms</th>\n",
              "      <th>time_signature</th>\n",
              "    </tr>\n",
              "  </thead>\n",
              "  <tbody>\n",
              "    <tr>\n",
              "      <th>0</th>\n",
              "      <td>-0.997206</td>\n",
              "      <td>-1.998830</td>\n",
              "      <td>-1.571210</td>\n",
              "      <td>-0.433952</td>\n",
              "      <td>-0.540153</td>\n",
              "      <td>0.510491</td>\n",
              "      <td>-0.654045</td>\n",
              "      <td>1.152930</td>\n",
              "      <td>0.166838</td>\n",
              "      <td>0.813813</td>\n",
              "      <td>1.113612</td>\n",
              "      <td>-0.517072</td>\n",
              "      <td>-0.019694</td>\n",
              "      <td>0.732486</td>\n",
              "    </tr>\n",
              "    <tr>\n",
              "      <th>1</th>\n",
              "      <td>-0.943177</td>\n",
              "      <td>0.420795</td>\n",
              "      <td>-1.454084</td>\n",
              "      <td>-0.800596</td>\n",
              "      <td>-0.453014</td>\n",
              "      <td>-0.061934</td>\n",
              "      <td>-0.029477</td>\n",
              "      <td>0.252224</td>\n",
              "      <td>-0.062056</td>\n",
              "      <td>-0.193199</td>\n",
              "      <td>0.039670</td>\n",
              "      <td>0.980824</td>\n",
              "      <td>0.401513</td>\n",
              "      <td>-0.033561</td>\n",
              "    </tr>\n",
              "    <tr>\n",
              "      <th>2</th>\n",
              "      <td>0.141613</td>\n",
              "      <td>-0.166910</td>\n",
              "      <td>-0.894727</td>\n",
              "      <td>1.949031</td>\n",
              "      <td>0.552344</td>\n",
              "      <td>-0.938632</td>\n",
              "      <td>-0.097618</td>\n",
              "      <td>-0.346452</td>\n",
              "      <td>-0.409010</td>\n",
              "      <td>-0.252278</td>\n",
              "      <td>0.565122</td>\n",
              "      <td>0.662528</td>\n",
              "      <td>-0.237178</td>\n",
              "      <td>0.188058</td>\n",
              "    </tr>\n",
              "    <tr>\n",
              "      <th>3</th>\n",
              "      <td>-0.554276</td>\n",
              "      <td>-1.886353</td>\n",
              "      <td>1.317788</td>\n",
              "      <td>-1.409616</td>\n",
              "      <td>0.848774</td>\n",
              "      <td>-0.289510</td>\n",
              "      <td>0.188420</td>\n",
              "      <td>-0.233221</td>\n",
              "      <td>-0.121320</td>\n",
              "      <td>0.757798</td>\n",
              "      <td>-0.025536</td>\n",
              "      <td>-0.920230</td>\n",
              "      <td>0.347468</td>\n",
              "      <td>0.254405</td>\n",
              "    </tr>\n",
              "    <tr>\n",
              "      <th>4</th>\n",
              "      <td>-1.922611</td>\n",
              "      <td>2.514625</td>\n",
              "      <td>-1.445811</td>\n",
              "      <td>0.520995</td>\n",
              "      <td>0.051411</td>\n",
              "      <td>2.589867</td>\n",
              "      <td>-0.628155</td>\n",
              "      <td>-1.299180</td>\n",
              "      <td>-0.589005</td>\n",
              "      <td>-1.268622</td>\n",
              "      <td>-0.194465</td>\n",
              "      <td>0.431032</td>\n",
              "      <td>-0.065408</td>\n",
              "      <td>-0.201215</td>\n",
              "    </tr>\n",
              "  </tbody>\n",
              "</table>\n",
              "</div>"
            ],
            "text/plain": [
              "   Popularity  danceability  ...  duration_in min/ms  time_signature\n",
              "0   -0.997206     -1.998830  ...           -0.019694        0.732486\n",
              "1   -0.943177      0.420795  ...            0.401513       -0.033561\n",
              "2    0.141613     -0.166910  ...           -0.237178        0.188058\n",
              "3   -0.554276     -1.886353  ...            0.347468        0.254405\n",
              "4   -1.922611      2.514625  ...           -0.065408       -0.201215\n",
              "\n",
              "[5 rows x 14 columns]"
            ]
          },
          "metadata": {
            "tags": []
          },
          "execution_count": 52
        }
      ]
    },
    {
      "cell_type": "code",
      "metadata": {
        "id": "LDfwMCyneuct"
      },
      "source": [
        "from lightgbm import LGBMClassifier\n",
        "from xgboost import XGBClassifier"
      ],
      "execution_count": null,
      "outputs": []
    },
    {
      "cell_type": "code",
      "metadata": {
        "colab": {
          "base_uri": "https://localhost:8080/"
        },
        "id": "p440S0_xeht2",
        "outputId": "490c8a9b-39a4-40e0-a9e1-e5f57c2ec238"
      },
      "source": [
        "err = []\n",
        "y_pred_tot_lgm = []\n",
        "\n",
        "from sklearn.model_selection import StratifiedKFold\n",
        "\n",
        "fold = StratifiedKFold(n_splits=5, shuffle=True, random_state=2020)\n",
        "i = 1\n",
        "for train_index, test_index in fold.split(X_scaled, y):\n",
        "    x_train, x_val = X_scaled.iloc[train_index], X_scaled.iloc[test_index]\n",
        "    y_train, y_val = y[train_index], y[test_index]\n",
        "    m = XGBClassifier(max_depth=5,\n",
        "                       learning_rate=0.05,\n",
        "                       n_estimators=5000,\n",
        "                       min_child_weight=0.01,\n",
        "                       colsample_bytree=0.5,\n",
        "                       random_state=1994,\n",
        "                       objective='multiclass')\n",
        "    m.fit(x_train, y_train,\n",
        "          eval_set=[(x_train,y_train),(x_val, y_val)],\n",
        "          early_stopping_rounds=200,\n",
        "          verbose=200)\n",
        "    pred_y = m.predict_proba(x_val)\n",
        "    print(i, \" err_lgm: \", log_loss(y_val, pred_y))\n",
        "    err.append(log_loss(y_val, pred_y))\n",
        "    pred_test = m.predict_proba(X_test_scaled)\n",
        "    i = i + 1\n",
        "    y_pred_tot_lgm.append(pred_test)"
      ],
      "execution_count": null,
      "outputs": [
        {
          "output_type": "stream",
          "text": [
            "[0]\tvalidation_0-merror:0.55564\tvalidation_1-merror:0.607778\n",
            "Multiple eval metrics have been passed: 'validation_1-merror' will be used for early stopping.\n",
            "\n",
            "Will train until validation_1-merror hasn't improved in 200 rounds.\n",
            "[200]\tvalidation_0-merror:0.342595\tvalidation_1-merror:0.461111\n",
            "[400]\tvalidation_0-merror:0.284523\tvalidation_1-merror:0.458889\n",
            "[600]\tvalidation_0-merror:0.240761\tvalidation_1-merror:0.460833\n",
            "Stopping. Best iteration:\n",
            "[538]\tvalidation_0-merror:0.253821\tvalidation_1-merror:0.455833\n",
            "\n",
            "1  err_lgm:  1.204842333714777\n",
            "[0]\tvalidation_0-merror:0.558866\tvalidation_1-merror:0.579605\n",
            "Multiple eval metrics have been passed: 'validation_1-merror' will be used for early stopping.\n",
            "\n",
            "Will train until validation_1-merror hasn't improved in 200 rounds.\n",
            "[200]\tvalidation_0-merror:0.33889\tvalidation_1-merror:0.44818\n",
            "[400]\tvalidation_0-merror:0.282281\tvalidation_1-merror:0.446235\n",
            "Stopping. Best iteration:\n",
            "[329]\tvalidation_0-merror:0.301591\tvalidation_1-merror:0.443734\n",
            "\n",
            "2  err_lgm:  1.1817535007799458\n",
            "[0]\tvalidation_0-merror:0.557338\tvalidation_1-merror:0.587108\n",
            "Multiple eval metrics have been passed: 'validation_1-merror' will be used for early stopping.\n",
            "\n",
            "Will train until validation_1-merror hasn't improved in 200 rounds.\n",
            "[200]\tvalidation_0-merror:0.341252\tvalidation_1-merror:0.44818\n",
            "[400]\tvalidation_0-merror:0.286587\tvalidation_1-merror:0.446513\n",
            "Stopping. Best iteration:\n",
            "[376]\tvalidation_0-merror:0.292075\tvalidation_1-merror:0.445957\n",
            "\n",
            "3  err_lgm:  1.1937445598238408\n",
            "[0]\tvalidation_0-merror:0.561853\tvalidation_1-merror:0.580995\n",
            "Multiple eval metrics have been passed: 'validation_1-merror' will be used for early stopping.\n",
            "\n",
            "Will train until validation_1-merror hasn't improved in 200 rounds.\n",
            "[200]\tvalidation_0-merror:0.336667\tvalidation_1-merror:0.449291\n",
            "Stopping. Best iteration:\n",
            "[141]\tvalidation_0-merror:0.357297\tvalidation_1-merror:0.447069\n",
            "\n",
            "4  err_lgm:  1.2317720191264963\n",
            "[0]\tvalidation_0-merror:0.561645\tvalidation_1-merror:0.590998\n",
            "Multiple eval metrics have been passed: 'validation_1-merror' will be used for early stopping.\n",
            "\n",
            "Will train until validation_1-merror hasn't improved in 200 rounds.\n",
            "[200]\tvalidation_0-merror:0.338612\tvalidation_1-merror:0.460684\n",
            "Stopping. Best iteration:\n",
            "[113]\tvalidation_0-merror:0.371883\tvalidation_1-merror:0.456794\n",
            "\n",
            "5  err_lgm:  1.2491464657275817\n"
          ],
          "name": "stdout"
        }
      ]
    },
    {
      "cell_type": "code",
      "metadata": {
        "colab": {
          "base_uri": "https://localhost:8080/",
          "height": 204
        },
        "id": "Y2n4CvLwdfHl",
        "outputId": "6d309293-6d8a-4e76-8ad6-2cf1fc53e9ce"
      },
      "source": [
        "submission = pd.DataFrame(np.mean(y_pred_tot_lgm, 0))\n",
        "submission.to_csv('LGBM_Scaled.csv', index=False, header=True)\n",
        "submission.head()"
      ],
      "execution_count": null,
      "outputs": [
        {
          "output_type": "execute_result",
          "data": {
            "text/html": [
              "<div>\n",
              "<style scoped>\n",
              "    .dataframe tbody tr th:only-of-type {\n",
              "        vertical-align: middle;\n",
              "    }\n",
              "\n",
              "    .dataframe tbody tr th {\n",
              "        vertical-align: top;\n",
              "    }\n",
              "\n",
              "    .dataframe thead th {\n",
              "        text-align: right;\n",
              "    }\n",
              "</style>\n",
              "<table border=\"1\" class=\"dataframe\">\n",
              "  <thead>\n",
              "    <tr style=\"text-align: right;\">\n",
              "      <th></th>\n",
              "      <th>0</th>\n",
              "      <th>1</th>\n",
              "      <th>2</th>\n",
              "      <th>3</th>\n",
              "      <th>4</th>\n",
              "      <th>5</th>\n",
              "      <th>6</th>\n",
              "      <th>7</th>\n",
              "      <th>8</th>\n",
              "      <th>9</th>\n",
              "      <th>10</th>\n",
              "    </tr>\n",
              "  </thead>\n",
              "  <tbody>\n",
              "    <tr>\n",
              "      <th>0</th>\n",
              "      <td>0.000194</td>\n",
              "      <td>0.031815</td>\n",
              "      <td>0.008993</td>\n",
              "      <td>0.000015</td>\n",
              "      <td>0.000343</td>\n",
              "      <td>0.004687</td>\n",
              "      <td>0.118454</td>\n",
              "      <td>0.000010</td>\n",
              "      <td>0.051114</td>\n",
              "      <td>0.017044</td>\n",
              "      <td>0.767332</td>\n",
              "    </tr>\n",
              "    <tr>\n",
              "      <th>1</th>\n",
              "      <td>0.000016</td>\n",
              "      <td>0.052050</td>\n",
              "      <td>0.008122</td>\n",
              "      <td>0.000011</td>\n",
              "      <td>0.000013</td>\n",
              "      <td>0.002113</td>\n",
              "      <td>0.068320</td>\n",
              "      <td>0.000005</td>\n",
              "      <td>0.570575</td>\n",
              "      <td>0.010233</td>\n",
              "      <td>0.288542</td>\n",
              "    </tr>\n",
              "    <tr>\n",
              "      <th>2</th>\n",
              "      <td>0.000017</td>\n",
              "      <td>0.040280</td>\n",
              "      <td>0.000902</td>\n",
              "      <td>0.000008</td>\n",
              "      <td>0.000257</td>\n",
              "      <td>0.035672</td>\n",
              "      <td>0.024895</td>\n",
              "      <td>0.000005</td>\n",
              "      <td>0.005778</td>\n",
              "      <td>0.694541</td>\n",
              "      <td>0.197644</td>\n",
              "    </tr>\n",
              "    <tr>\n",
              "      <th>3</th>\n",
              "      <td>0.000083</td>\n",
              "      <td>0.057586</td>\n",
              "      <td>0.001772</td>\n",
              "      <td>0.000016</td>\n",
              "      <td>0.000048</td>\n",
              "      <td>0.066915</td>\n",
              "      <td>0.031296</td>\n",
              "      <td>0.000008</td>\n",
              "      <td>0.015827</td>\n",
              "      <td>0.542229</td>\n",
              "      <td>0.284220</td>\n",
              "    </tr>\n",
              "    <tr>\n",
              "      <th>4</th>\n",
              "      <td>0.052638</td>\n",
              "      <td>0.002424</td>\n",
              "      <td>0.002726</td>\n",
              "      <td>0.001374</td>\n",
              "      <td>0.095453</td>\n",
              "      <td>0.001741</td>\n",
              "      <td>0.003229</td>\n",
              "      <td>0.000248</td>\n",
              "      <td>0.013265</td>\n",
              "      <td>0.587774</td>\n",
              "      <td>0.239128</td>\n",
              "    </tr>\n",
              "  </tbody>\n",
              "</table>\n",
              "</div>"
            ],
            "text/plain": [
              "         0         1         2   ...        8         9         10\n",
              "0  0.000194  0.031815  0.008993  ...  0.051114  0.017044  0.767332\n",
              "1  0.000016  0.052050  0.008122  ...  0.570575  0.010233  0.288542\n",
              "2  0.000017  0.040280  0.000902  ...  0.005778  0.694541  0.197644\n",
              "3  0.000083  0.057586  0.001772  ...  0.015827  0.542229  0.284220\n",
              "4  0.052638  0.002424  0.002726  ...  0.013265  0.587774  0.239128\n",
              "\n",
              "[5 rows x 11 columns]"
            ]
          },
          "metadata": {
            "tags": []
          },
          "execution_count": 69
        }
      ]
    }
  ]
}