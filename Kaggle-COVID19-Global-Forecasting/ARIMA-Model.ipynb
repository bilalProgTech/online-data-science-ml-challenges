{
 "cells": [
  {
   "cell_type": "code",
   "execution_count": 1,
   "metadata": {
    "_execution_state": "idle",
    "_uuid": "051d70d956493feee0c6d64651c6a088724dca2a"
   },
   "outputs": [
    {
     "name": "stderr",
     "output_type": "stream",
     "text": [
      "Registered S3 method overwritten by 'quantmod':\n",
      "  method            from\n",
      "  as.zoo.data.frame zoo \n",
      "\n",
      "\n",
      "Attaching package: ‘dplyr’\n",
      "\n",
      "\n",
      "The following objects are masked from ‘package:stats’:\n",
      "\n",
      "    filter, lag\n",
      "\n",
      "\n",
      "The following objects are masked from ‘package:base’:\n",
      "\n",
      "    intersect, setdiff, setequal, union\n",
      "\n",
      "\n"
     ]
    }
   ],
   "source": [
    "library(tseries)\n",
    "library(forecast)\n",
    "library(dplyr)"
   ]
  },
  {
   "cell_type": "code",
   "execution_count": 2,
   "metadata": {},
   "outputs": [],
   "source": [
    "train = read.csv(\"../input/covid19-global-forecasting-week-2/train.csv\")\n",
    "test = read.csv(\"../input/covid19-global-forecasting-week-2/test.csv\")"
   ]
  },
  {
   "cell_type": "code",
   "execution_count": 3,
   "metadata": {},
   "outputs": [
    {
     "name": "stderr",
     "output_type": "stream",
     "text": [
      "Joining, by = \"Date\"\n",
      "\n",
      "Warning message:\n",
      "“Column `Date` joining factors with different levels, coercing to character vector”\n"
     ]
    },
    {
     "name": "stdout",
     "output_type": "stream",
     "text": [
      " [1] \"2020-03-19\" \"2020-03-20\" \"2020-03-21\" \"2020-03-22\" \"2020-03-23\"\n",
      " [6] \"2020-03-24\" \"2020-03-25\" \"2020-03-26\" \"2020-03-27\" \"2020-03-28\"\n",
      "[11] \"2020-03-29\" \"2020-03-30\" \"2020-03-31\"\n"
     ]
    }
   ],
   "source": [
    "dates = as.character(unlist(unique(inner_join(train[c(4)], test[c(4)]))))\n",
    "print(dates)\n",
    "\n",
    "for(date in dates){\n",
    "  test_d1 = which(test$Date==date)\n",
    "  train_d1 = which(train$Date==date)\n",
    "  test[test_d1,'ConfirmedCases'] = train[train_d1,'ConfirmedCases']\n",
    "  test[test_d1,'Fatalities'] = train[train_d1,'Fatalities']\n",
    "}"
   ]
  },
  {
   "cell_type": "code",
   "execution_count": 4,
   "metadata": {},
   "outputs": [],
   "source": [
    "train = train %>% mutate(Province_State=replace(Province_State, Province_State==\"\", NA))\n",
    "countries = as.character(unique(train$Country_Region))"
   ]
  },
  {
   "cell_type": "code",
   "execution_count": 5,
   "metadata": {},
   "outputs": [],
   "source": [
    "predict = 43-length(dates)\n",
    "preds = list()\n",
    "i = 1\n",
    "\n",
    "for(country in countries){\n",
    "  c = train[train$Country_Region==country,]\n",
    "  rows = dim(c)[1]\n",
    "  if(rows > 65 || sum(is.na(c)) == 0){\n",
    "    c = c %>% mutate(Province_State=replace(Province_State, is.na(Province_State), \"\"))\n",
    "    states = as.character(unique(c$Province_State))\n",
    "    for(state in states){\n",
    "      c1 = c[c$Province_State==state,]\n",
    "      rows = dim(c1)[1]\n",
    "      data = ts(c1$ConfirmedCases, start=c(2020,1), end=c(2020,rows), frequency=rows)\n",
    "      auto = auto.arima(data)\n",
    "      ARMA = arima(data,order=c(auto$arma[1],auto$arma[6],auto$arma[2]))\n",
    "      pred = predict(ARMA, n.ahead=predict)\n",
    "      preds[[i]] = round(pred$pred)\n",
    "      i = i + 1\n",
    "    }\n",
    "  }\n",
    "  else{\n",
    "    data = ts(c$ConfirmedCases, start=c(2020,1), end=c(2020,rows), frequency=rows)\n",
    "    auto = auto.arima(data)\n",
    "    ARMA = arima(data,order=c(auto$arma[1],auto$arma[6],auto$arma[2]))\n",
    "    pred = predict(ARMA, n.ahead=predict)\n",
    "    preds[[i]] = round(pred$pred)\n",
    "    i = i + 1\n",
    "  }\n",
    "}"
   ]
  },
  {
   "cell_type": "code",
   "execution_count": 6,
   "metadata": {},
   "outputs": [],
   "source": [
    "dataframe = data.frame(ConfirmedCases = c(t(t(data.frame(preds)))))\n",
    "\n",
    "index = which(is.na(test$ConfirmedCases))\n",
    "test[index,'ConfirmedCases'] = dataframe$ConfirmedCases"
   ]
  },
  {
   "cell_type": "markdown",
   "metadata": {},
   "source": [
    "# Fatalities"
   ]
  },
  {
   "cell_type": "code",
   "execution_count": 7,
   "metadata": {},
   "outputs": [],
   "source": [
    "preds = list()\n",
    "i = 1\n",
    "\n",
    "for(country in countries){\n",
    "  c = train[train$Country_Region==country,]\n",
    "  rows = dim(c)[1]\n",
    "  if(rows > 65 || sum(is.na(c)) == 0){\n",
    "    c = c %>% mutate(Province_State=replace(Province_State, is.na(Province_State), \"\"))\n",
    "    states = as.character(unique(c$Province_State))\n",
    "    for(state in states){\n",
    "      c1 = c[c$Province_State==state,]\n",
    "      rows = dim(c1)[1]\n",
    "      if(all(c1$Fatalities==0)){\n",
    "        preds[[i]] = c(1:predict)*0\n",
    "      }\n",
    "      else{\n",
    "        data = ts(c1$Fatalities, start=c(2020,1), end=c(2020,rows), frequency=rows)\n",
    "        auto = auto.arima(data)\n",
    "        ARMA = arima(data,order=c(auto$arma[1],auto$arma[6],auto$arma[2]))\n",
    "        pred = predict(ARMA, n.ahead=predict)\n",
    "        preds[[i]] = round(pred$pred)\n",
    "      }\n",
    "      i = i + 1\n",
    "    }\n",
    "  }\n",
    "  else{\n",
    "    \n",
    "    if(all(c$Fatalities==0)){\n",
    "      preds[[i]] = c(1:predict)*0\n",
    "    }\n",
    "    else{\n",
    "      data = ts(c$Fatalities, start=c(2020,1), end=c(2020,rows), frequency=rows)\n",
    "      auto = auto.arima(data)\n",
    "      ARMA = arima(data,order=c(auto$arma[1],auto$arma[6],auto$arma[2]))\n",
    "      pred = predict(ARMA, n.ahead=predict)\n",
    "      preds[[i]] = round(pred$pred)\n",
    "    }\n",
    "    i = i + 1\n",
    "  }\n",
    "}"
   ]
  },
  {
   "cell_type": "code",
   "execution_count": 8,
   "metadata": {},
   "outputs": [],
   "source": [
    "dataframe = data.frame(Fatalities = c(t(t(data.frame(preds)))))\n",
    "\n",
    "index = which(is.na(test$Fatalities))\n",
    "test[index,'Fatalities'] = dataframe$Fatalities"
   ]
  },
  {
   "cell_type": "code",
   "execution_count": 9,
   "metadata": {},
   "outputs": [],
   "source": [
    "submission = data.frame(test$ForecastId, as.integer(test$ConfirmedCases), as.integer(test$Fatalities))\n",
    "names(submission) = c(\"ForecastId\",\"ConfirmedCases\",\"Fatalities\")\n",
    "write.csv(submission, \"submission.csv\", row.names = F)"
   ]
  }
 ],
 "metadata": {
  "kernelspec": {
   "display_name": "R",
   "language": "R",
   "name": "ir"
  },
  "language_info": {
   "codemirror_mode": "r",
   "file_extension": ".r",
   "mimetype": "text/x-r-source",
   "name": "R",
   "pygments_lexer": "r",
   "version": "3.6.0"
  }
 },
 "nbformat": 4,
 "nbformat_minor": 4
}
